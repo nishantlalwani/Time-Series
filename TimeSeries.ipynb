{
 "cells": [
  {
   "cell_type": "code",
   "execution_count": 1,
   "metadata": {},
   "outputs": [],
   "source": [
    "import pandas as pd\n",
    "import statsmodels.api as sm"
   ]
  },
  {
   "cell_type": "code",
   "execution_count": 2,
   "metadata": {},
   "outputs": [],
   "source": [
    "df=pd.read_excel('Time series for STat Take Home test.xlsx')\n",
    "values=['test_-W11','test_-W12','test_-W13','test_-W14','test_-W15','test_-W16','test_-W17','test_-W18','test_-W19','test_-W20']\n",
    "cond= ~df['week'].isin(values)\n",
    "df=df[cond]"
   ]
  },
  {
   "cell_type": "code",
   "execution_count": 3,
   "metadata": {},
   "outputs": [],
   "source": [
    "dates=pd.date_range(start='2015-01-01',end='2020-03-08')\n",
    "df_sun=pd.DataFrame(dates,columns=['date'])\n",
    "df_sun=df_sun[df_sun['date'].dt.day_name()=='Sunday'].reset_index(drop=True)"
   ]
  },
  {
   "cell_type": "code",
   "execution_count": 4,
   "metadata": {},
   "outputs": [],
   "source": [
    "df['date']=df_sun['date']"
   ]
  },
  {
   "cell_type": "code",
   "execution_count": 5,
   "metadata": {},
   "outputs": [],
   "source": [
    "y_train=df.drop(columns='week').set_index('date',drop=True)"
   ]
  },
  {
   "cell_type": "code",
   "execution_count": 6,
   "metadata": {
    "scrolled": true
   },
   "outputs": [
    {
     "name": "stderr",
     "output_type": "stream",
     "text": [
      "C:\\Users\\nisha\\Anaconda3\\lib\\site-packages\\statsmodels\\tsa\\base\\tsa_model.py:165: ValueWarning: No frequency information was provided, so inferred frequency W-SUN will be used.\n",
      "  % freq, ValueWarning)\n"
     ]
    }
   ],
   "source": [
    "final_model= sm.tsa.statespace.SARIMAX(y_train,order=(0, 1, 1),seasonal_order=(0, 1, 1, 52),enforce_stationarity=False,\n",
    "                                enforce_invertibility=False)\n",
    "final_result= final_model.fit()"
   ]
  },
  {
   "cell_type": "code",
   "execution_count": 7,
   "metadata": {},
   "outputs": [
    {
     "data": {
      "text/plain": [
       "[2245406.692904916,\n",
       " 2282397.00448693,\n",
       " 2563157.566026869,\n",
       " 2146917.0508945747,\n",
       " 2329793.6261750422,\n",
       " 2313319.5048558987,\n",
       " 2018695.616872976,\n",
       " 2346857.4862500797,\n",
       " 2073039.0224087038,\n",
       " 2323046.9502789928]"
      ]
     },
     "execution_count": 7,
     "metadata": {},
     "output_type": "execute_result"
    }
   ],
   "source": [
    "list(final_result.get_forecast(steps=10).predicted_mean.values)"
   ]
  }
 ],
 "metadata": {
  "kernelspec": {
   "display_name": "Python 3",
   "language": "python",
   "name": "python3"
  },
  "language_info": {
   "codemirror_mode": {
    "name": "ipython",
    "version": 3
   },
   "file_extension": ".py",
   "mimetype": "text/x-python",
   "name": "python",
   "nbconvert_exporter": "python",
   "pygments_lexer": "ipython3",
   "version": "3.7.4"
  }
 },
 "nbformat": 4,
 "nbformat_minor": 2
}
